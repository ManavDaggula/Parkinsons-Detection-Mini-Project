{
 "cells": [
  {
   "cell_type": "markdown",
   "id": "475b2951",
   "metadata": {},
   "source": [
    "Given by sir\n",
    "- [ ] relevant attributes\n",
    "- [x] use classification algos decision trees and random forest\n",
    "- [x] feature selection\n",
    "- [ ] confusion matrix (accuracy, precision, sensitivity)\n",
    "- [ ] GUI"
   ]
  },
  {
   "cell_type": "markdown",
   "id": "3c98d757",
   "metadata": {},
   "source": [
    "## Self tasks\n",
    "- [ ] Accuracy\n",
    "- [ ] Precision\n",
    "- [ ] Recall\n",
    "- [ ] F1-Score\n",
    "- [ ] Confusion Matrices\n",
    "- [ ] AU-ROC"
   ]
  }
 ],
 "metadata": {
  "kernelspec": {
   "display_name": "mini-project",
   "language": "python",
   "name": "mini-project"
  },
  "language_info": {
   "codemirror_mode": {
    "name": "ipython",
    "version": 3
   },
   "file_extension": ".py",
   "mimetype": "text/x-python",
   "name": "python",
   "nbconvert_exporter": "python",
   "pygments_lexer": "ipython3",
   "version": "3.11.1"
  }
 },
 "nbformat": 4,
 "nbformat_minor": 5
}
